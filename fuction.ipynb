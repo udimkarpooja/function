{
 "cells": [
  {
   "cell_type": "code",
   "execution_count": 1,
   "id": "641bc021-b1f8-4ef5-99e2-5d4d2d4610e8",
   "metadata": {},
   "outputs": [
    {
     "name": "stdout",
     "output_type": "stream",
     "text": [
      "this is my print\n"
     ]
    }
   ],
   "source": [
    "print(\"this is my print\")"
   ]
  },
  {
   "cell_type": "code",
   "execution_count": 2,
   "id": "2970380a-cfd7-4b4d-ad66-d1ad70c89806",
   "metadata": {},
   "outputs": [],
   "source": [
    "l = [324,45,45,45]"
   ]
  },
  {
   "cell_type": "code",
   "execution_count": 3,
   "id": "ccf143e1-1a28-4642-9be1-e50a684b4258",
   "metadata": {},
   "outputs": [
    {
     "data": {
      "text/plain": [
       "4"
      ]
     },
     "execution_count": 3,
     "metadata": {},
     "output_type": "execute_result"
    }
   ],
   "source": [
    "len(l)"
   ]
  },
  {
   "cell_type": "code",
   "execution_count": 4,
   "id": "a39b63bb-eb87-4907-a558-0ff0ea4c76de",
   "metadata": {},
   "outputs": [
    {
     "data": {
      "text/plain": [
       "list"
      ]
     },
     "execution_count": 4,
     "metadata": {},
     "output_type": "execute_result"
    }
   ],
   "source": [
    "type(l)"
   ]
  },
  {
   "cell_type": "code",
   "execution_count": 5,
   "id": "3d4f9d06-0dcd-4c5a-972e-236a05610420",
   "metadata": {},
   "outputs": [],
   "source": [
    "def test():\n",
    "    pass"
   ]
  },
  {
   "cell_type": "code",
   "execution_count": 6,
   "id": "6309a00e-0e53-4286-9b6b-61d6987fc50b",
   "metadata": {},
   "outputs": [],
   "source": [
    "def test1():\n",
    "    print(\"this is my vary vary first function\")"
   ]
  },
  {
   "cell_type": "code",
   "execution_count": 7,
   "id": "0ef0679c-3dd3-40b6-8767-b3783584741e",
   "metadata": {},
   "outputs": [
    {
     "name": "stdout",
     "output_type": "stream",
     "text": [
      "this is my vary vary first function\n"
     ]
    }
   ],
   "source": [
    "test1()"
   ]
  },
  {
   "cell_type": "code",
   "execution_count": 10,
   "id": "69549d7a-c68e-4de9-9176-0a7b3e79b6cc",
   "metadata": {},
   "outputs": [
    {
     "name": "stdout",
     "output_type": "stream",
     "text": [
      "this is my vary vary first function\n"
     ]
    }
   ],
   "source": [
    "test1() "
   ]
  },
  {
   "cell_type": "code",
   "execution_count": 11,
   "id": "f39eb71c-f08b-4849-a96a-9e734e5bbc23",
   "metadata": {},
   "outputs": [],
   "source": [
    "def test2():\n",
    "    return \"this is my very first return\" "
   ]
  },
  {
   "cell_type": "code",
   "execution_count": 14,
   "id": "b52fbc65-f48d-46de-a487-b74d556f57bd",
   "metadata": {},
   "outputs": [
    {
     "data": {
      "text/plain": [
       "'this is my very first return sudh'"
      ]
     },
     "execution_count": 14,
     "metadata": {},
     "output_type": "execute_result"
    }
   ],
   "source": [
    "test2()  + \" sudh\""
   ]
  },
  {
   "cell_type": "code",
   "execution_count": 15,
   "id": "f1676785-0807-44fa-8d02-b20faed81b5b",
   "metadata": {},
   "outputs": [],
   "source": [
    "def test3():\n",
    "    return \"sudh\" , 123 , 12.36 , [123,45.47]"
   ]
  },
  {
   "cell_type": "code",
   "execution_count": 16,
   "id": "b4f3b4fa-1a04-41a3-8334-3725e65fbfb1",
   "metadata": {},
   "outputs": [
    {
     "data": {
      "text/plain": [
       "('sudh', 123, 12.36, [123, 45.47])"
      ]
     },
     "execution_count": 16,
     "metadata": {},
     "output_type": "execute_result"
    }
   ],
   "source": [
    "test3()"
   ]
  },
  {
   "cell_type": "code",
   "execution_count": 17,
   "id": "3cf1189c-f10a-40ba-bb78-156ff5234619",
   "metadata": {},
   "outputs": [],
   "source": [
    "a,b,c,d = test3()"
   ]
  },
  {
   "cell_type": "code",
   "execution_count": 18,
   "id": "8ce6b5eb-28a8-44e3-95cb-84baab664bf9",
   "metadata": {},
   "outputs": [
    {
     "data": {
      "text/plain": [
       "'sudh'"
      ]
     },
     "execution_count": 18,
     "metadata": {},
     "output_type": "execute_result"
    }
   ],
   "source": [
    "a"
   ]
  },
  {
   "cell_type": "code",
   "execution_count": 19,
   "id": "b10437cc-a4fd-4df7-a9ef-f66994bd94b3",
   "metadata": {},
   "outputs": [
    {
     "data": {
      "text/plain": [
       "123"
      ]
     },
     "execution_count": 19,
     "metadata": {},
     "output_type": "execute_result"
    }
   ],
   "source": [
    "b"
   ]
  },
  {
   "cell_type": "code",
   "execution_count": 20,
   "id": "9beca694-8a24-402d-82c1-902d2a44d3a8",
   "metadata": {},
   "outputs": [
    {
     "data": {
      "text/plain": [
       "12.36"
      ]
     },
     "execution_count": 20,
     "metadata": {},
     "output_type": "execute_result"
    }
   ],
   "source": [
    "c"
   ]
  },
  {
   "cell_type": "code",
   "execution_count": 21,
   "id": "b63d6c90-2dd7-4e27-bbfc-24162013df33",
   "metadata": {},
   "outputs": [
    {
     "data": {
      "text/plain": [
       "[123, 45.47]"
      ]
     },
     "execution_count": 21,
     "metadata": {},
     "output_type": "execute_result"
    }
   ],
   "source": [
    "d"
   ]
  },
  {
   "cell_type": "code",
   "execution_count": 24,
   "id": "22dc5335-cdf0-40b3-ba92-d63e873d9c26",
   "metadata": {},
   "outputs": [],
   "source": [
    "def test4():\n",
    "    a = 5+6/7\n",
    "    return a"
   ]
  },
  {
   "cell_type": "code",
   "execution_count": 25,
   "id": "367ead1e-3d8d-480f-aca0-90cb2c4e5969",
   "metadata": {},
   "outputs": [
    {
     "data": {
      "text/plain": [
       "5.857142857142857"
      ]
     },
     "execution_count": 25,
     "metadata": {},
     "output_type": "execute_result"
    }
   ],
   "source": [
    "test4()"
   ]
  },
  {
   "cell_type": "code",
   "execution_count": 26,
   "id": "bbec9a12-418a-41fd-940c-fbf99b48c6d7",
   "metadata": {},
   "outputs": [],
   "source": [
    "def test5(a ,b, c):\n",
    "    d = a+b/c\n",
    "    return d\n",
    "    "
   ]
  },
  {
   "cell_type": "code",
   "execution_count": 28,
   "id": "06fdea8b-b68c-4bb2-9ea0-09b6204a1f9c",
   "metadata": {},
   "outputs": [
    {
     "data": {
      "text/plain": [
       "5.857142857142857"
      ]
     },
     "execution_count": 28,
     "metadata": {},
     "output_type": "execute_result"
    }
   ],
   "source": [
    "test5(5,6,7)"
   ]
  },
  {
   "cell_type": "code",
   "execution_count": 29,
   "id": "02b895d5-8fd9-44ca-a9ae-cdd5651eb846",
   "metadata": {},
   "outputs": [],
   "source": [
    "def test6(a,b):\n",
    "    return a+b"
   ]
  },
  {
   "cell_type": "code",
   "execution_count": 31,
   "id": "648296da-4945-4ccd-9ade-35d0982713ac",
   "metadata": {},
   "outputs": [
    {
     "data": {
      "text/plain": [
       "13"
      ]
     },
     "execution_count": 31,
     "metadata": {},
     "output_type": "execute_result"
    }
   ],
   "source": [
    "test6(5,8)"
   ]
  },
  {
   "cell_type": "code",
   "execution_count": 32,
   "id": "2740236c-6269-4727-a5d9-a046e9b3b585",
   "metadata": {},
   "outputs": [
    {
     "data": {
      "text/plain": [
       "'sudhkumar'"
      ]
     },
     "execution_count": 32,
     "metadata": {},
     "output_type": "execute_result"
    }
   ],
   "source": [
    "test6(\"sudh\" , \"kumar\")"
   ]
  },
  {
   "cell_type": "code",
   "execution_count": 33,
   "id": "39630824-d197-48f7-b0b2-f7a8f161dc4f",
   "metadata": {},
   "outputs": [
    {
     "data": {
      "text/plain": [
       "[1, 2, 36, 4, 56, 4, 2, 3]"
      ]
     },
     "execution_count": 33,
     "metadata": {},
     "output_type": "execute_result"
    }
   ],
   "source": [
    "test6([1,2,36,4] , [56,4,2,3])"
   ]
  },
  {
   "cell_type": "code",
   "execution_count": 34,
   "id": "169df6a0-d9ae-4e64-88e8-af7bb3a5e838",
   "metadata": {},
   "outputs": [],
   "source": [
    "l = [1,2,3,4,\"sudh\" , \"kumar\" , [1,2,3,4,5]]"
   ]
  },
  {
   "cell_type": "code",
   "execution_count": 37,
   "id": "7477debc-5c4f-4bd2-8680-6f3317a3bba8",
   "metadata": {},
   "outputs": [],
   "source": [
    "l1 = []\n",
    "for i in l :\n",
    "    if type(i) == int or type(i) == float:\n",
    "        l1.append(i)\n",
    "        "
   ]
  },
  {
   "cell_type": "code",
   "execution_count": 38,
   "id": "16967fda-9739-463b-a5f9-f42ef1723ffc",
   "metadata": {},
   "outputs": [
    {
     "data": {
      "text/plain": [
       "[1, 2, 3, 4]"
      ]
     },
     "execution_count": 38,
     "metadata": {},
     "output_type": "execute_result"
    }
   ],
   "source": [
    "l1"
   ]
  },
  {
   "cell_type": "code",
   "execution_count": 45,
   "id": "d0bc2b44-06d5-4df8-b4b2-de78ec9d5233",
   "metadata": {},
   "outputs": [],
   "source": [
    "def test7(m):\n",
    "    \n",
    "    l1 = []\n",
    "    for i in m :\n",
    "        if type(i) == int or type(i) == float:\n",
    "            l1.append(i)\n",
    "    return l1   "
   ]
  },
  {
   "cell_type": "code",
   "execution_count": 46,
   "id": "8b83769d-bbb0-4d44-b699-c399c27a8cd7",
   "metadata": {},
   "outputs": [
    {
     "data": {
      "text/plain": [
       "[1, 2, 3, 4]"
      ]
     },
     "execution_count": 46,
     "metadata": {},
     "output_type": "execute_result"
    }
   ],
   "source": [
    "test7(l)"
   ]
  },
  {
   "cell_type": "code",
   "execution_count": 47,
   "id": "33faf370-bb23-4387-b263-eca39aaedeee",
   "metadata": {},
   "outputs": [
    {
     "data": {
      "text/plain": [
       "[1, 2, 3, 4, 'sudh', 'kumar', [1, 2, 3, 4, 5]]"
      ]
     },
     "execution_count": 47,
     "metadata": {},
     "output_type": "execute_result"
    }
   ],
   "source": [
    "l"
   ]
  },
  {
   "cell_type": "code",
   "execution_count": 50,
   "id": "a5a4f2b8-2b30-4bcb-81c3-d43f7781ecc6",
   "metadata": {},
   "outputs": [],
   "source": [
    "def test8(l):\n",
    "    \"\"\"this is my fuction\"\"\"\n",
    "    \n",
    "    l2 = []\n",
    "    for i in l:\n",
    "        if type(i) == list:\n",
    "            for j in i :\n",
    "                l2.append(j)\n",
    "        else:\n",
    "            if type(i) == int or type(i)== float:\n",
    "                l2.append(i)\n",
    "    return l2   "
   ]
  },
  {
   "cell_type": "code",
   "execution_count": 49,
   "id": "e89e4a00-0b23-441f-8752-671758221b45",
   "metadata": {},
   "outputs": [
    {
     "data": {
      "text/plain": [
       "[1, 2, 3, 4, 1, 2, 3, 4, 5]"
      ]
     },
     "execution_count": 49,
     "metadata": {},
     "output_type": "execute_result"
    }
   ],
   "source": [
    "test8(l)"
   ]
  },
  {
   "cell_type": "code",
   "execution_count": 52,
   "id": "78272309-4d5f-4fc7-b212-5d2c6dc2eb69",
   "metadata": {},
   "outputs": [],
   "source": [
    "def test(a , b):\n",
    "    return a*b"
   ]
  },
  {
   "cell_type": "code",
   "execution_count": 53,
   "id": "3bb0d0ee-bb3a-494f-9e08-e435c2a3c6df",
   "metadata": {},
   "outputs": [],
   "source": [
    "def test11(*args):\n",
    "    return args"
   ]
  },
  {
   "cell_type": "code",
   "execution_count": 54,
   "id": "857b4d09-11ca-4aaa-b4de-19e14cd6e5cf",
   "metadata": {},
   "outputs": [
    {
     "data": {
      "text/plain": [
       "(1, 2, 3, 4, 5, 6, 7)"
      ]
     },
     "execution_count": 54,
     "metadata": {},
     "output_type": "execute_result"
    }
   ],
   "source": [
    "test11(1,2,3,4,5,6,7)"
   ]
  },
  {
   "cell_type": "code",
   "execution_count": 55,
   "id": "bf4a4833-416e-48c8-8ad3-982d5c9af3a2",
   "metadata": {},
   "outputs": [
    {
     "data": {
      "text/plain": [
       "tuple"
      ]
     },
     "execution_count": 55,
     "metadata": {},
     "output_type": "execute_result"
    }
   ],
   "source": [
    "type(test11())"
   ]
  },
  {
   "cell_type": "code",
   "execution_count": 57,
   "id": "7f5b0d4a-885d-40b4-83f5-0ef7fb6ffc2f",
   "metadata": {},
   "outputs": [],
   "source": [
    "def test13(*args , a):\n",
    "    return args , a"
   ]
  },
  {
   "cell_type": "code",
   "execution_count": 58,
   "id": "f7fd2c19-9841-4748-a1ad-5d7720a6be20",
   "metadata": {},
   "outputs": [
    {
     "data": {
      "text/plain": [
       "((12, 3, 6, 5, 4, 8, 9, 6, 2), 569)"
      ]
     },
     "execution_count": 58,
     "metadata": {},
     "output_type": "execute_result"
    }
   ],
   "source": [
    "test13(12,3,6,5,4,8,9,6,2,a = 569)"
   ]
  },
  {
   "cell_type": "code",
   "execution_count": 60,
   "id": "748478f4-9c27-4ff4-b7c8-c387e13cfcdd",
   "metadata": {},
   "outputs": [],
   "source": [
    "def test14(c,d,a = 23 , b = 4):\n",
    "    return a,b,c,d"
   ]
  },
  {
   "cell_type": "code",
   "execution_count": 62,
   "id": "f813da39-bbe3-4924-bba8-30db49eb1375",
   "metadata": {},
   "outputs": [
    {
     "data": {
      "text/plain": [
       "(23, 4, 5, 56)"
      ]
     },
     "execution_count": 62,
     "metadata": {},
     "output_type": "execute_result"
    }
   ],
   "source": [
    "test14(c = 5, d = 56)"
   ]
  },
  {
   "cell_type": "code",
   "execution_count": 63,
   "id": "a2dbaa21-450c-4b2e-b998-fbfb5ff26f3c",
   "metadata": {},
   "outputs": [
    {
     "data": {
      "text/plain": [
       "(98, 4, 2, 5)"
      ]
     },
     "execution_count": 63,
     "metadata": {},
     "output_type": "execute_result"
    }
   ],
   "source": [
    "test14(2,5, a = 98)"
   ]
  },
  {
   "cell_type": "code",
   "execution_count": 65,
   "id": "e9520a4e-9f2d-4f7a-8f59-e9ce324c78e9",
   "metadata": {},
   "outputs": [],
   "source": [
    "def test15(**kwargs) :\n",
    "    return kwargs"
   ]
  },
  {
   "cell_type": "code",
   "execution_count": 66,
   "id": "0977fc26-23eb-480c-991f-6863caf328b6",
   "metadata": {},
   "outputs": [
    {
     "data": {
      "text/plain": [
       "{}"
      ]
     },
     "execution_count": 66,
     "metadata": {},
     "output_type": "execute_result"
    }
   ],
   "source": [
    "test15()"
   ]
  },
  {
   "cell_type": "code",
   "execution_count": 67,
   "id": "36c330fb-c9e4-4eb9-9659-6da5ac93a40b",
   "metadata": {},
   "outputs": [
    {
     "data": {
      "text/plain": [
       "dict"
      ]
     },
     "execution_count": 67,
     "metadata": {},
     "output_type": "execute_result"
    }
   ],
   "source": [
    "type(test15())"
   ]
  },
  {
   "cell_type": "code",
   "execution_count": 68,
   "id": "5b6af8cf-d269-4bea-83f1-03002d793e47",
   "metadata": {},
   "outputs": [
    {
     "data": {
      "text/plain": [
       "{'a': [1, 2, 3, 4], 'b': 'sudh', 'c': 45.63}"
      ]
     },
     "execution_count": 68,
     "metadata": {},
     "output_type": "execute_result"
    }
   ],
   "source": [
    "test15(a = [1,2,3,4] , b = \"sudh\" , c = 45.63)"
   ]
  },
  {
   "cell_type": "markdown",
   "id": "8654547a-7b67-458b-9449-e5b5c9049a1e",
   "metadata": {},
   "source": [
    "generator function"
   ]
  },
  {
   "cell_type": "code",
   "execution_count": 69,
   "id": "ad8db8f9-b5f1-48cd-b0d0-be24087f1c76",
   "metadata": {},
   "outputs": [
    {
     "data": {
      "text/plain": [
       "range(0, 10)"
      ]
     },
     "execution_count": 69,
     "metadata": {},
     "output_type": "execute_result"
    }
   ],
   "source": [
    "range(10)"
   ]
  },
  {
   "cell_type": "code",
   "execution_count": 70,
   "id": "a49fc7dd-63c4-4676-9ec5-987c13992920",
   "metadata": {},
   "outputs": [
    {
     "name": "stdout",
     "output_type": "stream",
     "text": [
      "0\n",
      "1\n",
      "2\n",
      "3\n",
      "4\n",
      "5\n",
      "6\n",
      "7\n",
      "8\n",
      "9\n"
     ]
    }
   ],
   "source": [
    "for i in range(10):\n",
    "    print(i)"
   ]
  },
  {
   "cell_type": "code",
   "execution_count": 74,
   "id": "e617b099-ff74-44d8-a614-41dc51db39e5",
   "metadata": {},
   "outputs": [],
   "source": [
    "def test_fib(n):\n",
    "    a,b = 0,1\n",
    "    for i in range(n):\n",
    "        yield a\n",
    "        a,b = b , a+b"
   ]
  },
  {
   "cell_type": "code",
   "execution_count": 77,
   "id": "be95ba19-7016-4624-bc5c-e9b99cbe85a2",
   "metadata": {},
   "outputs": [
    {
     "name": "stdout",
     "output_type": "stream",
     "text": [
      "0\n",
      "1\n",
      "1\n",
      "2\n",
      "3\n",
      "5\n",
      "8\n",
      "13\n",
      "21\n",
      "34\n"
     ]
    }
   ],
   "source": [
    "for i in test_fib(10):\n",
    "     print(i)"
   ]
  },
  {
   "cell_type": "code",
   "execution_count": 79,
   "id": "1dd0fc37-cf6a-437d-a534-bbc783d93bc2",
   "metadata": {},
   "outputs": [
    {
     "name": "stdout",
     "output_type": "stream",
     "text": [
      "s\n",
      "u\n",
      "d\n",
      "h\n"
     ]
    }
   ],
   "source": [
    "s = \"sudh\"\n",
    "for i in s :\n",
    "    print(i)\n",
    "    "
   ]
  },
  {
   "cell_type": "code",
   "execution_count": 80,
   "id": "6fd55e3f-a612-4e40-8ac4-4e94a6d2bd48",
   "metadata": {},
   "outputs": [
    {
     "data": {
      "text/plain": [
       "'sudh'"
      ]
     },
     "execution_count": 80,
     "metadata": {},
     "output_type": "execute_result"
    }
   ],
   "source": [
    "s"
   ]
  },
  {
   "cell_type": "code",
   "execution_count": 81,
   "id": "7187a916-8c91-4464-8f8e-f013fadd3d5a",
   "metadata": {},
   "outputs": [
    {
     "ename": "TypeError",
     "evalue": "'str' object is not an iterator",
     "output_type": "error",
     "traceback": [
      "\u001b[0;31m---------------------------------------------------------------------------\u001b[0m",
      "\u001b[0;31mTypeError\u001b[0m                                 Traceback (most recent call last)",
      "Cell \u001b[0;32mIn[81], line 1\u001b[0m\n\u001b[0;32m----> 1\u001b[0m \u001b[38;5;28;43mnext\u001b[39;49m\u001b[43m(\u001b[49m\u001b[43ms\u001b[49m\u001b[43m)\u001b[49m\n",
      "\u001b[0;31mTypeError\u001b[0m: 'str' object is not an iterator"
     ]
    }
   ],
   "source": [
    "next(s)"
   ]
  },
  {
   "cell_type": "code",
   "execution_count": 82,
   "id": "daf47a65-184d-4814-9d76-195f6570772e",
   "metadata": {},
   "outputs": [],
   "source": [
    "s1 = iter(s)"
   ]
  },
  {
   "cell_type": "code",
   "execution_count": 83,
   "id": "6e5b725d-b60a-4242-a191-dae8b3b2ea52",
   "metadata": {},
   "outputs": [
    {
     "data": {
      "text/plain": [
       "'s'"
      ]
     },
     "execution_count": 83,
     "metadata": {},
     "output_type": "execute_result"
    }
   ],
   "source": [
    "next(s1)"
   ]
  },
  {
   "cell_type": "code",
   "execution_count": 84,
   "id": "8cf76eba-52d2-4794-acb6-df55fc1a3f0a",
   "metadata": {},
   "outputs": [
    {
     "data": {
      "text/plain": [
       "'u'"
      ]
     },
     "execution_count": 84,
     "metadata": {},
     "output_type": "execute_result"
    }
   ],
   "source": [
    "next(s1)"
   ]
  },
  {
   "cell_type": "code",
   "execution_count": 85,
   "id": "b14837d7-54c4-48c2-8d9e-158cd3200540",
   "metadata": {},
   "outputs": [
    {
     "data": {
      "text/plain": [
       "'d'"
      ]
     },
     "execution_count": 85,
     "metadata": {},
     "output_type": "execute_result"
    }
   ],
   "source": [
    "next(s1)"
   ]
  },
  {
   "cell_type": "code",
   "execution_count": 86,
   "id": "2be7aa8a-85d2-4abd-87cc-9442f01d05ff",
   "metadata": {},
   "outputs": [
    {
     "data": {
      "text/plain": [
       "'h'"
      ]
     },
     "execution_count": 86,
     "metadata": {},
     "output_type": "execute_result"
    }
   ],
   "source": [
    "next(s1)"
   ]
  },
  {
   "cell_type": "code",
   "execution_count": 87,
   "id": "c5af3690-22c6-450a-a959-5fb743ecd5fb",
   "metadata": {},
   "outputs": [],
   "source": [
    "def test_fib():\n",
    "    a,b =0,1\n",
    "    while True:\n",
    "        yield a\n",
    "        a,b = b , a+b"
   ]
  },
  {
   "cell_type": "code",
   "execution_count": 88,
   "id": "46930d60-2f20-4db1-a604-c844317d87bf",
   "metadata": {},
   "outputs": [],
   "source": [
    "fib = test_fib()"
   ]
  },
  {
   "cell_type": "code",
   "execution_count": 91,
   "id": "93902ead-0be0-4967-8b97-d67ef03c7aab",
   "metadata": {},
   "outputs": [
    {
     "name": "stdout",
     "output_type": "stream",
     "text": [
      "0\n",
      "1\n",
      "1\n",
      "2\n",
      "3\n",
      "5\n",
      "8\n",
      "13\n",
      "21\n",
      "34\n"
     ]
    }
   ],
   "source": [
    "for i in range(10):\n",
    "    print(next(fib))"
   ]
  },
  {
   "cell_type": "code",
   "execution_count": 92,
   "id": "f0f3630f-7978-4be5-ba08-75b26ba5798e",
   "metadata": {},
   "outputs": [
    {
     "data": {
      "text/plain": [
       "generator"
      ]
     },
     "execution_count": 92,
     "metadata": {},
     "output_type": "execute_result"
    }
   ],
   "source": [
    "type(fib)"
   ]
  },
  {
   "cell_type": "code",
   "execution_count": 97,
   "id": "405130e1-1f40-41fe-9a35-00ad64e93c28",
   "metadata": {},
   "outputs": [],
   "source": [
    "def count_test(n):\n",
    "    count = 1\n",
    "    while count <= n :\n",
    "        yield count\n",
    "        count = count +1"
   ]
  },
  {
   "cell_type": "code",
   "execution_count": 98,
   "id": "6918aa31-7cf4-4545-9613-dd16543a715e",
   "metadata": {},
   "outputs": [],
   "source": [
    "c = count_test(5)"
   ]
  },
  {
   "cell_type": "code",
   "execution_count": 100,
   "id": "f1880516-46d9-497b-bc86-7e6f98de0e43",
   "metadata": {},
   "outputs": [
    {
     "data": {
      "text/plain": [
       "generator"
      ]
     },
     "execution_count": 100,
     "metadata": {},
     "output_type": "execute_result"
    }
   ],
   "source": [
    "type(c)"
   ]
  },
  {
   "cell_type": "code",
   "execution_count": 99,
   "id": "08795f07-6b22-45f2-a998-14d54fffc587",
   "metadata": {},
   "outputs": [
    {
     "name": "stdout",
     "output_type": "stream",
     "text": [
      "1\n",
      "2\n",
      "3\n",
      "4\n",
      "5\n"
     ]
    }
   ],
   "source": [
    "for i in c :\n",
    "    print(i)"
   ]
  },
  {
   "cell_type": "markdown",
   "id": "bff7305d-d126-40a7-a755-283bf0f4bfe3",
   "metadata": {},
   "source": [
    "lambda function"
   ]
  },
  {
   "cell_type": "code",
   "execution_count": 102,
   "id": "d010f5bb-dab6-4033-b775-8901a55e7bcf",
   "metadata": {},
   "outputs": [],
   "source": [
    "n= 3\n",
    "n =2"
   ]
  },
  {
   "cell_type": "code",
   "execution_count": 104,
   "id": "e0e430fb-eece-4bea-ba3a-f82e5faf4118",
   "metadata": {},
   "outputs": [],
   "source": [
    "def test(n,p):\n",
    "    return n**p"
   ]
  },
  {
   "cell_type": "code",
   "execution_count": 105,
   "id": "63fe05c5-db2a-4324-b09f-6c559b28ed88",
   "metadata": {},
   "outputs": [
    {
     "data": {
      "text/plain": [
       "9"
      ]
     },
     "execution_count": 105,
     "metadata": {},
     "output_type": "execute_result"
    }
   ],
   "source": [
    "test(3,2)"
   ]
  },
  {
   "cell_type": "code",
   "execution_count": 108,
   "id": "89afac8e-8855-4301-8046-da707e222481",
   "metadata": {},
   "outputs": [],
   "source": [
    "a = lambda n ,p : n**p"
   ]
  },
  {
   "cell_type": "code",
   "execution_count": 109,
   "id": "6aa52614-fc9d-4ace-a445-418d5bc779ef",
   "metadata": {},
   "outputs": [
    {
     "data": {
      "text/plain": [
       "9"
      ]
     },
     "execution_count": 109,
     "metadata": {},
     "output_type": "execute_result"
    }
   ],
   "source": [
    "a(3 , 2)"
   ]
  },
  {
   "cell_type": "code",
   "execution_count": 110,
   "id": "8ec874a2-ebf5-48f5-a6ed-e7357110a95f",
   "metadata": {},
   "outputs": [],
   "source": [
    "add = lambda x ,y : x+y"
   ]
  },
  {
   "cell_type": "code",
   "execution_count": 111,
   "id": "116cdb0e-7b8d-47d7-ba08-66b41f64ea6b",
   "metadata": {},
   "outputs": [
    {
     "data": {
      "text/plain": [
       "9"
      ]
     },
     "execution_count": 111,
     "metadata": {},
     "output_type": "execute_result"
    }
   ],
   "source": [
    "add(4,5)"
   ]
  },
  {
   "cell_type": "code",
   "execution_count": 112,
   "id": "4713a182-fb3e-4286-99cc-99ed48d9a428",
   "metadata": {},
   "outputs": [
    {
     "data": {
      "text/plain": [
       "'poojaudimkar'"
      ]
     },
     "execution_count": 112,
     "metadata": {},
     "output_type": "execute_result"
    }
   ],
   "source": [
    "add(\"pooja\" , \"udimkar\")"
   ]
  },
  {
   "cell_type": "code",
   "execution_count": 113,
   "id": "e1d65a60-ee40-4ca7-9266-19ceadaeb163",
   "metadata": {},
   "outputs": [],
   "source": [
    "c_to_f = lambda c : (9/5)*c+32"
   ]
  },
  {
   "cell_type": "code",
   "execution_count": 114,
   "id": "ba312a58-609c-431d-9dd3-f89f94752c2f",
   "metadata": {},
   "outputs": [
    {
     "data": {
      "text/plain": [
       "113.0"
      ]
     },
     "execution_count": 114,
     "metadata": {},
     "output_type": "execute_result"
    }
   ],
   "source": [
    "c_to_f(45)"
   ]
  },
  {
   "cell_type": "code",
   "execution_count": 115,
   "id": "b81a4e4a-3efe-4d46-8c8c-e1d9650803b1",
   "metadata": {},
   "outputs": [],
   "source": [
    "find_max = lambda x,y : x if x>y else y"
   ]
  },
  {
   "cell_type": "code",
   "execution_count": 117,
   "id": "43bb263b-4313-47fa-a069-ca778f06bee9",
   "metadata": {},
   "outputs": [
    {
     "data": {
      "text/plain": [
       "56"
      ]
     },
     "execution_count": 117,
     "metadata": {},
     "output_type": "execute_result"
    }
   ],
   "source": [
    "find_max(7,56)"
   ]
  },
  {
   "cell_type": "code",
   "execution_count": 118,
   "id": "ea643a36-4275-4303-a559-d3dbb7873db0",
   "metadata": {},
   "outputs": [],
   "source": [
    "s = \"pwskills\""
   ]
  },
  {
   "cell_type": "code",
   "execution_count": 119,
   "id": "528508bf-76e6-4ec4-a43d-695f0e5854e5",
   "metadata": {},
   "outputs": [],
   "source": [
    "find_len = lambda s : len(s)"
   ]
  },
  {
   "cell_type": "code",
   "execution_count": 120,
   "id": "9f6b4d6f-2037-451e-a322-b8f75703db92",
   "metadata": {},
   "outputs": [
    {
     "data": {
      "text/plain": [
       "8"
      ]
     },
     "execution_count": 120,
     "metadata": {},
     "output_type": "execute_result"
    }
   ],
   "source": [
    "find_len(s)"
   ]
  },
  {
   "cell_type": "markdown",
   "id": "44f6bb60-3097-451e-8f8b-fa0a735175ff",
   "metadata": {},
   "source": [
    "map"
   ]
  },
  {
   "cell_type": "code",
   "execution_count": 121,
   "id": "28b1e1fa-99c9-4fc8-bf0a-7a427dd277ca",
   "metadata": {},
   "outputs": [],
   "source": [
    "l = [2,3,4,5,6]"
   ]
  },
  {
   "cell_type": "code",
   "execution_count": 123,
   "id": "a6672035-e39d-4acc-b058-6dea0ed6cdd0",
   "metadata": {},
   "outputs": [],
   "source": [
    "def test(l):\n",
    "    l1 = []\n",
    "    for i in l:\n",
    "        l1.append(i**2)\n",
    "    return l1    \n",
    "        "
   ]
  },
  {
   "cell_type": "code",
   "execution_count": 125,
   "id": "43aa984b-1cfb-46e9-b5d4-7fdce88611a6",
   "metadata": {},
   "outputs": [
    {
     "data": {
      "text/plain": [
       "[4, 9, 16, 25, 36]"
      ]
     },
     "execution_count": 125,
     "metadata": {},
     "output_type": "execute_result"
    }
   ],
   "source": [
    "test(l)"
   ]
  },
  {
   "cell_type": "code",
   "execution_count": 131,
   "id": "b53a7d85-e661-47f2-ab2f-c389c2bddc77",
   "metadata": {},
   "outputs": [],
   "source": [
    "def sq(x):\n",
    "    return x**2"
   ]
  },
  {
   "cell_type": "code",
   "execution_count": 132,
   "id": "0e061d74-c475-4430-98e4-ec7b69aab886",
   "metadata": {},
   "outputs": [
    {
     "data": {
      "text/plain": [
       "[4, 9, 16, 25, 36]"
      ]
     },
     "execution_count": 132,
     "metadata": {},
     "output_type": "execute_result"
    }
   ],
   "source": [
    "list(map(sq , l))"
   ]
  },
  {
   "cell_type": "code",
   "execution_count": 133,
   "id": "044f139b-d053-4599-988b-e245410fba18",
   "metadata": {},
   "outputs": [
    {
     "data": {
      "text/plain": [
       "[4, 9, 16, 25, 36]"
      ]
     },
     "execution_count": 133,
     "metadata": {},
     "output_type": "execute_result"
    }
   ],
   "source": [
    "list(map(lambda x : x**2 , l))"
   ]
  },
  {
   "cell_type": "code",
   "execution_count": 134,
   "id": "8572993a-f9a2-4f24-aab3-be82ae386f4d",
   "metadata": {},
   "outputs": [],
   "source": [
    "l1 = [1,2,3,4,5]\n",
    "l2 = [6,7,8,9,4]"
   ]
  },
  {
   "cell_type": "code",
   "execution_count": 135,
   "id": "07df8719-544d-4211-9ce6-3c7a4350df38",
   "metadata": {},
   "outputs": [
    {
     "data": {
      "text/plain": [
       "[7, 9, 11, 13, 9]"
      ]
     },
     "execution_count": 135,
     "metadata": {},
     "output_type": "execute_result"
    }
   ],
   "source": [
    "list(map(lambda x , y : x+y , l1 ,l2))"
   ]
  },
  {
   "cell_type": "code",
   "execution_count": 136,
   "id": "6fbe8006-2fc8-4314-b7a7-2daed568bbb3",
   "metadata": {},
   "outputs": [],
   "source": [
    "def add(x ,y):\n",
    "    return x+y\n"
   ]
  },
  {
   "cell_type": "code",
   "execution_count": 137,
   "id": "97b91e57-4a4e-4eca-838a-8ecdd79b6030",
   "metadata": {},
   "outputs": [
    {
     "data": {
      "text/plain": [
       "[7, 9, 11, 13, 9]"
      ]
     },
     "execution_count": 137,
     "metadata": {},
     "output_type": "execute_result"
    }
   ],
   "source": [
    "list(map(add , l1 ,l2))"
   ]
  },
  {
   "cell_type": "code",
   "execution_count": 138,
   "id": "32d10315-b497-41b8-99c1-2a5373f9d137",
   "metadata": {},
   "outputs": [],
   "source": [
    "s = \"pwskills\""
   ]
  },
  {
   "cell_type": "code",
   "execution_count": 141,
   "id": "7eaf1c2b-b5ce-4d80-ae3c-1c0bd3c2c5a7",
   "metadata": {},
   "outputs": [
    {
     "data": {
      "text/plain": [
       "('P', 'W', 'S', 'K', 'I', 'L', 'L', 'S')"
      ]
     },
     "execution_count": 141,
     "metadata": {},
     "output_type": "execute_result"
    }
   ],
   "source": [
    "tuple(map(lambda s : s.upper() , s))"
   ]
  },
  {
   "cell_type": "markdown",
   "id": "fd949ecc-83dc-4765-8117-0fc2e4e8e80b",
   "metadata": {},
   "source": [
    "reduce"
   ]
  },
  {
   "cell_type": "code",
   "execution_count": 142,
   "id": "b18e3993-63a3-4482-ba3b-33bbaa98b40e",
   "metadata": {},
   "outputs": [],
   "source": [
    "from functools import reduce"
   ]
  },
  {
   "cell_type": "code",
   "execution_count": 143,
   "id": "b4a724bb-2f01-4175-af9d-13f01c6d41c9",
   "metadata": {},
   "outputs": [],
   "source": [
    "l = [1,2,3,4,5]"
   ]
  },
  {
   "cell_type": "code",
   "execution_count": 144,
   "id": "6184bf9b-35e6-4779-bbc6-8c632350945a",
   "metadata": {},
   "outputs": [
    {
     "data": {
      "text/plain": [
       "15"
      ]
     },
     "execution_count": 144,
     "metadata": {},
     "output_type": "execute_result"
    }
   ],
   "source": [
    "reduce(lambda x ,y : x+y , l)"
   ]
  },
  {
   "cell_type": "code",
   "execution_count": 145,
   "id": "6786ca37-481d-44d4-a1b1-cb3f26ee4f03",
   "metadata": {},
   "outputs": [
    {
     "data": {
      "text/plain": [
       "120"
      ]
     },
     "execution_count": 145,
     "metadata": {},
     "output_type": "execute_result"
    }
   ],
   "source": [
    "reduce(lambda x , y : x * y , l)"
   ]
  },
  {
   "cell_type": "code",
   "execution_count": 146,
   "id": "66df6dbe-92f1-43b0-878c-127dd34fd910",
   "metadata": {},
   "outputs": [
    {
     "data": {
      "text/plain": [
       "[1, 2, 3, 4, 5]"
      ]
     },
     "execution_count": 146,
     "metadata": {},
     "output_type": "execute_result"
    }
   ],
   "source": [
    "l"
   ]
  },
  {
   "cell_type": "code",
   "execution_count": 148,
   "id": "6c13bef0-8407-4901-8223-ba97386680ed",
   "metadata": {},
   "outputs": [
    {
     "data": {
      "text/plain": [
       "5"
      ]
     },
     "execution_count": 148,
     "metadata": {},
     "output_type": "execute_result"
    }
   ],
   "source": [
    "reduce(lambda x,y : x if x > y else y , l)"
   ]
  },
  {
   "cell_type": "markdown",
   "id": "dadd647b-a146-4d0f-a42e-8145d2d1fbb8",
   "metadata": {},
   "source": [
    "filter"
   ]
  },
  {
   "cell_type": "code",
   "execution_count": 149,
   "id": "ea6cb014-d96b-49ac-a683-a0c577f57a56",
   "metadata": {},
   "outputs": [
    {
     "data": {
      "text/plain": [
       "[1, 2, 3, 4, 5]"
      ]
     },
     "execution_count": 149,
     "metadata": {},
     "output_type": "execute_result"
    }
   ],
   "source": [
    "l"
   ]
  },
  {
   "cell_type": "code",
   "execution_count": 150,
   "id": "1b5456de-4fcf-43d9-bb54-adbd330547e2",
   "metadata": {},
   "outputs": [
    {
     "data": {
      "text/plain": [
       "[2, 4]"
      ]
     },
     "execution_count": 150,
     "metadata": {},
     "output_type": "execute_result"
    }
   ],
   "source": [
    "list(filter(lambda x : x%2 == 0 , l))"
   ]
  },
  {
   "cell_type": "code",
   "execution_count": 151,
   "id": "a0db6abd-559e-40a3-a349-35bea7d6d23c",
   "metadata": {},
   "outputs": [
    {
     "data": {
      "text/plain": [
       "[1, 3, 5]"
      ]
     },
     "execution_count": 151,
     "metadata": {},
     "output_type": "execute_result"
    }
   ],
   "source": [
    "list(filter(lambda x : x%2 != 0 , l))"
   ]
  },
  {
   "cell_type": "code",
   "execution_count": 153,
   "id": "814ada84-07a2-4e3a-a2fc-170e1af0c1a7",
   "metadata": {},
   "outputs": [],
   "source": [
    "l1 = [1,3,-6,-2,-4,74,-9]"
   ]
  },
  {
   "cell_type": "code",
   "execution_count": 155,
   "id": "784c5889-f266-4266-a7eb-f59c60661f99",
   "metadata": {},
   "outputs": [
    {
     "data": {
      "text/plain": [
       "[-6, -2, -4, -9]"
      ]
     },
     "execution_count": 155,
     "metadata": {},
     "output_type": "execute_result"
    }
   ],
   "source": [
    "list(filter(lambda x : x < 0 , l1))"
   ]
  },
  {
   "cell_type": "code",
   "execution_count": 156,
   "id": "8665169f-6dd0-41e0-abeb-9e62863b1fe6",
   "metadata": {},
   "outputs": [],
   "source": [
    "l2 = [\"sudh\" , \"pwskills\" , \"krish\" , \"sona\" , \"radha\"]"
   ]
  },
  {
   "cell_type": "code",
   "execution_count": 157,
   "id": "3bf704b3-65dc-4532-9d09-cdc8424c747e",
   "metadata": {},
   "outputs": [
    {
     "data": {
      "text/plain": [
       "['sudh', 'krish', 'sona', 'radha']"
      ]
     },
     "execution_count": 157,
     "metadata": {},
     "output_type": "execute_result"
    }
   ],
   "source": [
    "list(filter(lambda x : len(x) < 6 , l2 ))"
   ]
  },
  {
   "cell_type": "code",
   "execution_count": null,
   "id": "e65745c7-e578-4307-91fc-632a92bd9cca",
   "metadata": {},
   "outputs": [],
   "source": []
  }
 ],
 "metadata": {
  "kernelspec": {
   "display_name": "Python 3 (ipykernel)",
   "language": "python",
   "name": "python3"
  },
  "language_info": {
   "codemirror_mode": {
    "name": "ipython",
    "version": 3
   },
   "file_extension": ".py",
   "mimetype": "text/x-python",
   "name": "python",
   "nbconvert_exporter": "python",
   "pygments_lexer": "ipython3",
   "version": "3.10.8"
  }
 },
 "nbformat": 4,
 "nbformat_minor": 5
}
